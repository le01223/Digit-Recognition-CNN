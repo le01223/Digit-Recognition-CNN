{
  "nbformat": 4,
  "nbformat_minor": 0,
  "metadata": {
    "colab": {
      "provenance": [],
      "gpuType": "T4"
    },
    "kernelspec": {
      "name": "python3",
      "display_name": "Python 3"
    },
    "language_info": {
      "name": "python"
    },
    "accelerator": "GPU"
  },
  "cells": [
    {
      "cell_type": "code",
      "execution_count": null,
      "metadata": {
        "id": "_srn-MGmWZuh"
      },
      "outputs": [],
      "source": [
        "import tensorflow as tf\n",
        "import numpy as np\n",
        "import pandas as pd\n",
        "import matplotlib.pyplot as plt\n",
        "import seaborn as sns"
      ]
    },
    {
      "cell_type": "code",
      "source": [
        "train = pd.read_csv(\"trainYX.csv\")\n",
        "test = pd.read_csv(\"testX.csv\")\n",
        "train = train.drop(\"id\", axis=1)\n",
        "test = test.drop(\"id\", axis = 1)\n",
        "train"
      ],
      "metadata": {
        "colab": {
          "base_uri": "https://localhost:8080/",
          "height": 439
        },
        "id": "b9p0cXHsYTId",
        "outputId": "5c0a61ce-c6af-4291-eabf-7a19f2d681c2"
      },
      "execution_count": null,
      "outputs": [
        {
          "output_type": "execute_result",
          "data": {
            "text/plain": [
              "      y    1    2    3    4    5    6    7    8    9  ...  1015  1016  1017  \\\n",
              "0     3  227  233  237  235  233  233  230  226  232  ...   240   234   237   \n",
              "1     8  232  250  252  238  228  238  244  241  252  ...   254   253   243   \n",
              "2     3  223  223  237  247  225  238  226  234  246  ...   213   240   230   \n",
              "3     8  180  215  228  218  217  223  228  235  213  ...   221   214   243   \n",
              "4     8  193  202  214  224  232  239  246  250  249  ...   245   247   248   \n",
              "...  ..  ...  ...  ...  ...  ...  ...  ...  ...  ...  ...   ...   ...   ...   \n",
              "4995  8  233  233  233  232  231  229  228  227  233  ...   232   233   227   \n",
              "4996  3  239  239  237  236  235  234  234  234  234  ...   233   231   232   \n",
              "4997  3  237  227  225  235  238  230  226  231  231  ...   232   235   230   \n",
              "4998  3  241  242  243  241  239  238  238  240  242  ...   244   242   240   \n",
              "4999  3  248  244  242  246  249  248  248  250  250  ...   244   255   250   \n",
              "\n",
              "      1018  1019  1020  1021  1022  1023  1024  \n",
              "0      227   233   240   230   223   227   229  \n",
              "1      245   240   216   243   247   251   237  \n",
              "2      241   229   240   237   219   233   226  \n",
              "3      224   216   222   230   233   214   182  \n",
              "4      248   242   231   221   214   203   194  \n",
              "...    ...   ...   ...   ...   ...   ...   ...  \n",
              "4995   225   224   225   229   233   236   238  \n",
              "4996   233   234   235   235   235   235   234  \n",
              "4997   226   209   226   230   223   236   219  \n",
              "4998   240   239   238   238   239   239   239  \n",
              "4999   247   247   250   249   245   244   246  \n",
              "\n",
              "[5000 rows x 1025 columns]"
            ],
            "text/html": [
              "\n",
              "  <div id=\"df-3e20dde1-45ba-4430-ac1f-34d3191a038c\" class=\"colab-df-container\">\n",
              "    <div>\n",
              "<style scoped>\n",
              "    .dataframe tbody tr th:only-of-type {\n",
              "        vertical-align: middle;\n",
              "    }\n",
              "\n",
              "    .dataframe tbody tr th {\n",
              "        vertical-align: top;\n",
              "    }\n",
              "\n",
              "    .dataframe thead th {\n",
              "        text-align: right;\n",
              "    }\n",
              "</style>\n",
              "<table border=\"1\" class=\"dataframe\">\n",
              "  <thead>\n",
              "    <tr style=\"text-align: right;\">\n",
              "      <th></th>\n",
              "      <th>y</th>\n",
              "      <th>1</th>\n",
              "      <th>2</th>\n",
              "      <th>3</th>\n",
              "      <th>4</th>\n",
              "      <th>5</th>\n",
              "      <th>6</th>\n",
              "      <th>7</th>\n",
              "      <th>8</th>\n",
              "      <th>9</th>\n",
              "      <th>...</th>\n",
              "      <th>1015</th>\n",
              "      <th>1016</th>\n",
              "      <th>1017</th>\n",
              "      <th>1018</th>\n",
              "      <th>1019</th>\n",
              "      <th>1020</th>\n",
              "      <th>1021</th>\n",
              "      <th>1022</th>\n",
              "      <th>1023</th>\n",
              "      <th>1024</th>\n",
              "    </tr>\n",
              "  </thead>\n",
              "  <tbody>\n",
              "    <tr>\n",
              "      <th>0</th>\n",
              "      <td>3</td>\n",
              "      <td>227</td>\n",
              "      <td>233</td>\n",
              "      <td>237</td>\n",
              "      <td>235</td>\n",
              "      <td>233</td>\n",
              "      <td>233</td>\n",
              "      <td>230</td>\n",
              "      <td>226</td>\n",
              "      <td>232</td>\n",
              "      <td>...</td>\n",
              "      <td>240</td>\n",
              "      <td>234</td>\n",
              "      <td>237</td>\n",
              "      <td>227</td>\n",
              "      <td>233</td>\n",
              "      <td>240</td>\n",
              "      <td>230</td>\n",
              "      <td>223</td>\n",
              "      <td>227</td>\n",
              "      <td>229</td>\n",
              "    </tr>\n",
              "    <tr>\n",
              "      <th>1</th>\n",
              "      <td>8</td>\n",
              "      <td>232</td>\n",
              "      <td>250</td>\n",
              "      <td>252</td>\n",
              "      <td>238</td>\n",
              "      <td>228</td>\n",
              "      <td>238</td>\n",
              "      <td>244</td>\n",
              "      <td>241</td>\n",
              "      <td>252</td>\n",
              "      <td>...</td>\n",
              "      <td>254</td>\n",
              "      <td>253</td>\n",
              "      <td>243</td>\n",
              "      <td>245</td>\n",
              "      <td>240</td>\n",
              "      <td>216</td>\n",
              "      <td>243</td>\n",
              "      <td>247</td>\n",
              "      <td>251</td>\n",
              "      <td>237</td>\n",
              "    </tr>\n",
              "    <tr>\n",
              "      <th>2</th>\n",
              "      <td>3</td>\n",
              "      <td>223</td>\n",
              "      <td>223</td>\n",
              "      <td>237</td>\n",
              "      <td>247</td>\n",
              "      <td>225</td>\n",
              "      <td>238</td>\n",
              "      <td>226</td>\n",
              "      <td>234</td>\n",
              "      <td>246</td>\n",
              "      <td>...</td>\n",
              "      <td>213</td>\n",
              "      <td>240</td>\n",
              "      <td>230</td>\n",
              "      <td>241</td>\n",
              "      <td>229</td>\n",
              "      <td>240</td>\n",
              "      <td>237</td>\n",
              "      <td>219</td>\n",
              "      <td>233</td>\n",
              "      <td>226</td>\n",
              "    </tr>\n",
              "    <tr>\n",
              "      <th>3</th>\n",
              "      <td>8</td>\n",
              "      <td>180</td>\n",
              "      <td>215</td>\n",
              "      <td>228</td>\n",
              "      <td>218</td>\n",
              "      <td>217</td>\n",
              "      <td>223</td>\n",
              "      <td>228</td>\n",
              "      <td>235</td>\n",
              "      <td>213</td>\n",
              "      <td>...</td>\n",
              "      <td>221</td>\n",
              "      <td>214</td>\n",
              "      <td>243</td>\n",
              "      <td>224</td>\n",
              "      <td>216</td>\n",
              "      <td>222</td>\n",
              "      <td>230</td>\n",
              "      <td>233</td>\n",
              "      <td>214</td>\n",
              "      <td>182</td>\n",
              "    </tr>\n",
              "    <tr>\n",
              "      <th>4</th>\n",
              "      <td>8</td>\n",
              "      <td>193</td>\n",
              "      <td>202</td>\n",
              "      <td>214</td>\n",
              "      <td>224</td>\n",
              "      <td>232</td>\n",
              "      <td>239</td>\n",
              "      <td>246</td>\n",
              "      <td>250</td>\n",
              "      <td>249</td>\n",
              "      <td>...</td>\n",
              "      <td>245</td>\n",
              "      <td>247</td>\n",
              "      <td>248</td>\n",
              "      <td>248</td>\n",
              "      <td>242</td>\n",
              "      <td>231</td>\n",
              "      <td>221</td>\n",
              "      <td>214</td>\n",
              "      <td>203</td>\n",
              "      <td>194</td>\n",
              "    </tr>\n",
              "    <tr>\n",
              "      <th>...</th>\n",
              "      <td>...</td>\n",
              "      <td>...</td>\n",
              "      <td>...</td>\n",
              "      <td>...</td>\n",
              "      <td>...</td>\n",
              "      <td>...</td>\n",
              "      <td>...</td>\n",
              "      <td>...</td>\n",
              "      <td>...</td>\n",
              "      <td>...</td>\n",
              "      <td>...</td>\n",
              "      <td>...</td>\n",
              "      <td>...</td>\n",
              "      <td>...</td>\n",
              "      <td>...</td>\n",
              "      <td>...</td>\n",
              "      <td>...</td>\n",
              "      <td>...</td>\n",
              "      <td>...</td>\n",
              "      <td>...</td>\n",
              "      <td>...</td>\n",
              "    </tr>\n",
              "    <tr>\n",
              "      <th>4995</th>\n",
              "      <td>8</td>\n",
              "      <td>233</td>\n",
              "      <td>233</td>\n",
              "      <td>233</td>\n",
              "      <td>232</td>\n",
              "      <td>231</td>\n",
              "      <td>229</td>\n",
              "      <td>228</td>\n",
              "      <td>227</td>\n",
              "      <td>233</td>\n",
              "      <td>...</td>\n",
              "      <td>232</td>\n",
              "      <td>233</td>\n",
              "      <td>227</td>\n",
              "      <td>225</td>\n",
              "      <td>224</td>\n",
              "      <td>225</td>\n",
              "      <td>229</td>\n",
              "      <td>233</td>\n",
              "      <td>236</td>\n",
              "      <td>238</td>\n",
              "    </tr>\n",
              "    <tr>\n",
              "      <th>4996</th>\n",
              "      <td>3</td>\n",
              "      <td>239</td>\n",
              "      <td>239</td>\n",
              "      <td>237</td>\n",
              "      <td>236</td>\n",
              "      <td>235</td>\n",
              "      <td>234</td>\n",
              "      <td>234</td>\n",
              "      <td>234</td>\n",
              "      <td>234</td>\n",
              "      <td>...</td>\n",
              "      <td>233</td>\n",
              "      <td>231</td>\n",
              "      <td>232</td>\n",
              "      <td>233</td>\n",
              "      <td>234</td>\n",
              "      <td>235</td>\n",
              "      <td>235</td>\n",
              "      <td>235</td>\n",
              "      <td>235</td>\n",
              "      <td>234</td>\n",
              "    </tr>\n",
              "    <tr>\n",
              "      <th>4997</th>\n",
              "      <td>3</td>\n",
              "      <td>237</td>\n",
              "      <td>227</td>\n",
              "      <td>225</td>\n",
              "      <td>235</td>\n",
              "      <td>238</td>\n",
              "      <td>230</td>\n",
              "      <td>226</td>\n",
              "      <td>231</td>\n",
              "      <td>231</td>\n",
              "      <td>...</td>\n",
              "      <td>232</td>\n",
              "      <td>235</td>\n",
              "      <td>230</td>\n",
              "      <td>226</td>\n",
              "      <td>209</td>\n",
              "      <td>226</td>\n",
              "      <td>230</td>\n",
              "      <td>223</td>\n",
              "      <td>236</td>\n",
              "      <td>219</td>\n",
              "    </tr>\n",
              "    <tr>\n",
              "      <th>4998</th>\n",
              "      <td>3</td>\n",
              "      <td>241</td>\n",
              "      <td>242</td>\n",
              "      <td>243</td>\n",
              "      <td>241</td>\n",
              "      <td>239</td>\n",
              "      <td>238</td>\n",
              "      <td>238</td>\n",
              "      <td>240</td>\n",
              "      <td>242</td>\n",
              "      <td>...</td>\n",
              "      <td>244</td>\n",
              "      <td>242</td>\n",
              "      <td>240</td>\n",
              "      <td>240</td>\n",
              "      <td>239</td>\n",
              "      <td>238</td>\n",
              "      <td>238</td>\n",
              "      <td>239</td>\n",
              "      <td>239</td>\n",
              "      <td>239</td>\n",
              "    </tr>\n",
              "    <tr>\n",
              "      <th>4999</th>\n",
              "      <td>3</td>\n",
              "      <td>248</td>\n",
              "      <td>244</td>\n",
              "      <td>242</td>\n",
              "      <td>246</td>\n",
              "      <td>249</td>\n",
              "      <td>248</td>\n",
              "      <td>248</td>\n",
              "      <td>250</td>\n",
              "      <td>250</td>\n",
              "      <td>...</td>\n",
              "      <td>244</td>\n",
              "      <td>255</td>\n",
              "      <td>250</td>\n",
              "      <td>247</td>\n",
              "      <td>247</td>\n",
              "      <td>250</td>\n",
              "      <td>249</td>\n",
              "      <td>245</td>\n",
              "      <td>244</td>\n",
              "      <td>246</td>\n",
              "    </tr>\n",
              "  </tbody>\n",
              "</table>\n",
              "<p>5000 rows × 1025 columns</p>\n",
              "</div>\n",
              "    <div class=\"colab-df-buttons\">\n",
              "\n",
              "  <div class=\"colab-df-container\">\n",
              "    <button class=\"colab-df-convert\" onclick=\"convertToInteractive('df-3e20dde1-45ba-4430-ac1f-34d3191a038c')\"\n",
              "            title=\"Convert this dataframe to an interactive table.\"\n",
              "            style=\"display:none;\">\n",
              "\n",
              "  <svg xmlns=\"http://www.w3.org/2000/svg\" height=\"24px\" viewBox=\"0 -960 960 960\">\n",
              "    <path d=\"M120-120v-720h720v720H120Zm60-500h600v-160H180v160Zm220 220h160v-160H400v160Zm0 220h160v-160H400v160ZM180-400h160v-160H180v160Zm440 0h160v-160H620v160ZM180-180h160v-160H180v160Zm440 0h160v-160H620v160Z\"/>\n",
              "  </svg>\n",
              "    </button>\n",
              "\n",
              "  <style>\n",
              "    .colab-df-container {\n",
              "      display:flex;\n",
              "      gap: 12px;\n",
              "    }\n",
              "\n",
              "    .colab-df-convert {\n",
              "      background-color: #E8F0FE;\n",
              "      border: none;\n",
              "      border-radius: 50%;\n",
              "      cursor: pointer;\n",
              "      display: none;\n",
              "      fill: #1967D2;\n",
              "      height: 32px;\n",
              "      padding: 0 0 0 0;\n",
              "      width: 32px;\n",
              "    }\n",
              "\n",
              "    .colab-df-convert:hover {\n",
              "      background-color: #E2EBFA;\n",
              "      box-shadow: 0px 1px 2px rgba(60, 64, 67, 0.3), 0px 1px 3px 1px rgba(60, 64, 67, 0.15);\n",
              "      fill: #174EA6;\n",
              "    }\n",
              "\n",
              "    .colab-df-buttons div {\n",
              "      margin-bottom: 4px;\n",
              "    }\n",
              "\n",
              "    [theme=dark] .colab-df-convert {\n",
              "      background-color: #3B4455;\n",
              "      fill: #D2E3FC;\n",
              "    }\n",
              "\n",
              "    [theme=dark] .colab-df-convert:hover {\n",
              "      background-color: #434B5C;\n",
              "      box-shadow: 0px 1px 3px 1px rgba(0, 0, 0, 0.15);\n",
              "      filter: drop-shadow(0px 1px 2px rgba(0, 0, 0, 0.3));\n",
              "      fill: #FFFFFF;\n",
              "    }\n",
              "  </style>\n",
              "\n",
              "    <script>\n",
              "      const buttonEl =\n",
              "        document.querySelector('#df-3e20dde1-45ba-4430-ac1f-34d3191a038c button.colab-df-convert');\n",
              "      buttonEl.style.display =\n",
              "        google.colab.kernel.accessAllowed ? 'block' : 'none';\n",
              "\n",
              "      async function convertToInteractive(key) {\n",
              "        const element = document.querySelector('#df-3e20dde1-45ba-4430-ac1f-34d3191a038c');\n",
              "        const dataTable =\n",
              "          await google.colab.kernel.invokeFunction('convertToInteractive',\n",
              "                                                    [key], {});\n",
              "        if (!dataTable) return;\n",
              "\n",
              "        const docLinkHtml = 'Like what you see? Visit the ' +\n",
              "          '<a target=\"_blank\" href=https://colab.research.google.com/notebooks/data_table.ipynb>data table notebook</a>'\n",
              "          + ' to learn more about interactive tables.';\n",
              "        element.innerHTML = '';\n",
              "        dataTable['output_type'] = 'display_data';\n",
              "        await google.colab.output.renderOutput(dataTable, element);\n",
              "        const docLink = document.createElement('div');\n",
              "        docLink.innerHTML = docLinkHtml;\n",
              "        element.appendChild(docLink);\n",
              "      }\n",
              "    </script>\n",
              "  </div>\n",
              "\n",
              "\n",
              "<div id=\"df-2d40f9f3-64e7-42f6-83ff-400492bfe51b\">\n",
              "  <button class=\"colab-df-quickchart\" onclick=\"quickchart('df-2d40f9f3-64e7-42f6-83ff-400492bfe51b')\"\n",
              "            title=\"Suggest charts\"\n",
              "            style=\"display:none;\">\n",
              "\n",
              "<svg xmlns=\"http://www.w3.org/2000/svg\" height=\"24px\"viewBox=\"0 0 24 24\"\n",
              "     width=\"24px\">\n",
              "    <g>\n",
              "        <path d=\"M19 3H5c-1.1 0-2 .9-2 2v14c0 1.1.9 2 2 2h14c1.1 0 2-.9 2-2V5c0-1.1-.9-2-2-2zM9 17H7v-7h2v7zm4 0h-2V7h2v10zm4 0h-2v-4h2v4z\"/>\n",
              "    </g>\n",
              "</svg>\n",
              "  </button>\n",
              "\n",
              "<style>\n",
              "  .colab-df-quickchart {\n",
              "      --bg-color: #E8F0FE;\n",
              "      --fill-color: #1967D2;\n",
              "      --hover-bg-color: #E2EBFA;\n",
              "      --hover-fill-color: #174EA6;\n",
              "      --disabled-fill-color: #AAA;\n",
              "      --disabled-bg-color: #DDD;\n",
              "  }\n",
              "\n",
              "  [theme=dark] .colab-df-quickchart {\n",
              "      --bg-color: #3B4455;\n",
              "      --fill-color: #D2E3FC;\n",
              "      --hover-bg-color: #434B5C;\n",
              "      --hover-fill-color: #FFFFFF;\n",
              "      --disabled-bg-color: #3B4455;\n",
              "      --disabled-fill-color: #666;\n",
              "  }\n",
              "\n",
              "  .colab-df-quickchart {\n",
              "    background-color: var(--bg-color);\n",
              "    border: none;\n",
              "    border-radius: 50%;\n",
              "    cursor: pointer;\n",
              "    display: none;\n",
              "    fill: var(--fill-color);\n",
              "    height: 32px;\n",
              "    padding: 0;\n",
              "    width: 32px;\n",
              "  }\n",
              "\n",
              "  .colab-df-quickchart:hover {\n",
              "    background-color: var(--hover-bg-color);\n",
              "    box-shadow: 0 1px 2px rgba(60, 64, 67, 0.3), 0 1px 3px 1px rgba(60, 64, 67, 0.15);\n",
              "    fill: var(--button-hover-fill-color);\n",
              "  }\n",
              "\n",
              "  .colab-df-quickchart-complete:disabled,\n",
              "  .colab-df-quickchart-complete:disabled:hover {\n",
              "    background-color: var(--disabled-bg-color);\n",
              "    fill: var(--disabled-fill-color);\n",
              "    box-shadow: none;\n",
              "  }\n",
              "\n",
              "  .colab-df-spinner {\n",
              "    border: 2px solid var(--fill-color);\n",
              "    border-color: transparent;\n",
              "    border-bottom-color: var(--fill-color);\n",
              "    animation:\n",
              "      spin 1s steps(1) infinite;\n",
              "  }\n",
              "\n",
              "  @keyframes spin {\n",
              "    0% {\n",
              "      border-color: transparent;\n",
              "      border-bottom-color: var(--fill-color);\n",
              "      border-left-color: var(--fill-color);\n",
              "    }\n",
              "    20% {\n",
              "      border-color: transparent;\n",
              "      border-left-color: var(--fill-color);\n",
              "      border-top-color: var(--fill-color);\n",
              "    }\n",
              "    30% {\n",
              "      border-color: transparent;\n",
              "      border-left-color: var(--fill-color);\n",
              "      border-top-color: var(--fill-color);\n",
              "      border-right-color: var(--fill-color);\n",
              "    }\n",
              "    40% {\n",
              "      border-color: transparent;\n",
              "      border-right-color: var(--fill-color);\n",
              "      border-top-color: var(--fill-color);\n",
              "    }\n",
              "    60% {\n",
              "      border-color: transparent;\n",
              "      border-right-color: var(--fill-color);\n",
              "    }\n",
              "    80% {\n",
              "      border-color: transparent;\n",
              "      border-right-color: var(--fill-color);\n",
              "      border-bottom-color: var(--fill-color);\n",
              "    }\n",
              "    90% {\n",
              "      border-color: transparent;\n",
              "      border-bottom-color: var(--fill-color);\n",
              "    }\n",
              "  }\n",
              "</style>\n",
              "\n",
              "  <script>\n",
              "    async function quickchart(key) {\n",
              "      const quickchartButtonEl =\n",
              "        document.querySelector('#' + key + ' button');\n",
              "      quickchartButtonEl.disabled = true;  // To prevent multiple clicks.\n",
              "      quickchartButtonEl.classList.add('colab-df-spinner');\n",
              "      try {\n",
              "        const charts = await google.colab.kernel.invokeFunction(\n",
              "            'suggestCharts', [key], {});\n",
              "      } catch (error) {\n",
              "        console.error('Error during call to suggestCharts:', error);\n",
              "      }\n",
              "      quickchartButtonEl.classList.remove('colab-df-spinner');\n",
              "      quickchartButtonEl.classList.add('colab-df-quickchart-complete');\n",
              "    }\n",
              "    (() => {\n",
              "      let quickchartButtonEl =\n",
              "        document.querySelector('#df-2d40f9f3-64e7-42f6-83ff-400492bfe51b button');\n",
              "      quickchartButtonEl.style.display =\n",
              "        google.colab.kernel.accessAllowed ? 'block' : 'none';\n",
              "    })();\n",
              "  </script>\n",
              "</div>\n",
              "    </div>\n",
              "  </div>\n"
            ],
            "application/vnd.google.colaboratory.intrinsic+json": {
              "type": "dataframe",
              "variable_name": "train"
            }
          },
          "metadata": {},
          "execution_count": 35
        }
      ]
    },
    {
      "cell_type": "code",
      "source": [
        "print(train.shape)\n",
        "print(test.shape)"
      ],
      "metadata": {
        "colab": {
          "base_uri": "https://localhost:8080/"
        },
        "id": "w7RCOP_oZ4zG",
        "outputId": "52f16f30-e836-4bf2-d977-52c9d3369cc0"
      },
      "execution_count": null,
      "outputs": [
        {
          "output_type": "stream",
          "name": "stdout",
          "text": [
            "(5000, 1025)\n",
            "(5000, 1024)\n"
          ]
        }
      ]
    },
    {
      "cell_type": "code",
      "source": [
        "train_y = train['y'].astype('int32')\n",
        "train_x = train.drop(['y'], axis = 1).astype('int32')\n",
        "test_x = test.astype('int32')\n",
        "train_x.shape, train_y.shape"
      ],
      "metadata": {
        "colab": {
          "base_uri": "https://localhost:8080/"
        },
        "id": "gErOdwlCY_T1",
        "outputId": "a8ac7b8a-9084-4037-c1f4-404ac8e7c731"
      },
      "execution_count": null,
      "outputs": [
        {
          "output_type": "execute_result",
          "data": {
            "text/plain": [
              "((5000, 1024), (5000,))"
            ]
          },
          "metadata": {},
          "execution_count": 37
        }
      ]
    },
    {
      "cell_type": "code",
      "source": [
        "train_x = train_x.values.reshape(-1, 32, 32, 1)\n",
        "train_x = train_x / 255\n",
        "test_x = test_x.values.reshape(-1, 32, 32, 1)\n",
        "test_x = test_x / 255\n",
        "train_x.shape, test_x.shape"
      ],
      "metadata": {
        "colab": {
          "base_uri": "https://localhost:8080/"
        },
        "id": "k7faVduOaI8S",
        "outputId": "bc21dcfc-f9fd-444d-b048-4a09d9968b7b"
      },
      "execution_count": null,
      "outputs": [
        {
          "output_type": "execute_result",
          "data": {
            "text/plain": [
              "((5000, 32, 32, 1), (5000, 32, 32, 1))"
            ]
          },
          "metadata": {},
          "execution_count": 38
        }
      ]
    },
    {
      "cell_type": "code",
      "source": [
        "train_y"
      ],
      "metadata": {
        "colab": {
          "base_uri": "https://localhost:8080/"
        },
        "id": "luR9HnNo31XU",
        "outputId": "0ea514eb-460c-476a-d9b4-f0ce291d017d"
      },
      "execution_count": null,
      "outputs": [
        {
          "output_type": "execute_result",
          "data": {
            "text/plain": [
              "0       3\n",
              "1       8\n",
              "2       3\n",
              "3       8\n",
              "4       8\n",
              "       ..\n",
              "4995    8\n",
              "4996    3\n",
              "4997    3\n",
              "4998    3\n",
              "4999    3\n",
              "Name: y, Length: 5000, dtype: int32"
            ]
          },
          "metadata": {},
          "execution_count": 39
        }
      ]
    },
    {
      "cell_type": "code",
      "source": [
        "train_y = tf.keras.utils.to_categorical(train_y, 10)\n",
        "train_y.shape"
      ],
      "metadata": {
        "colab": {
          "base_uri": "https://localhost:8080/"
        },
        "id": "BFnvKJj3amxx",
        "outputId": "ba53d7d2-b1a3-4308-dd7e-46780fd476ed"
      },
      "execution_count": null,
      "outputs": [
        {
          "output_type": "execute_result",
          "data": {
            "text/plain": [
              "(5000, 10)"
            ]
          },
          "metadata": {},
          "execution_count": 40
        }
      ]
    },
    {
      "cell_type": "code",
      "source": [
        "print(train['y'].head())"
      ],
      "metadata": {
        "colab": {
          "base_uri": "https://localhost:8080/"
        },
        "id": "URMtGaT6av64",
        "outputId": "1275840d-d3e5-4d1b-e386-54bb43bcc2ef"
      },
      "execution_count": null,
      "outputs": [
        {
          "output_type": "stream",
          "name": "stdout",
          "text": [
            "0    3\n",
            "1    8\n",
            "2    3\n",
            "3    8\n",
            "4    8\n",
            "Name: y, dtype: int64\n"
          ]
        }
      ]
    },
    {
      "cell_type": "code",
      "source": [
        "print(train_y[0:5,:])"
      ],
      "metadata": {
        "colab": {
          "base_uri": "https://localhost:8080/"
        },
        "id": "D1e1SkJ7a0eB",
        "outputId": "7d9463fa-bf53-46ee-9237-88192d910d35"
      },
      "execution_count": null,
      "outputs": [
        {
          "output_type": "stream",
          "name": "stdout",
          "text": [
            "[[0. 0. 0. 1. 0. 0. 0. 0. 0. 0.]\n",
            " [0. 0. 0. 0. 0. 0. 0. 0. 1. 0.]\n",
            " [0. 0. 0. 1. 0. 0. 0. 0. 0. 0.]\n",
            " [0. 0. 0. 0. 0. 0. 0. 0. 1. 0.]\n",
            " [0. 0. 0. 0. 0. 0. 0. 0. 1. 0.]]\n"
          ]
        }
      ]
    },
    {
      "cell_type": "code",
      "source": [
        "model = tf.keras.models.Sequential([\n",
        "    tf.keras.layers.Conv2D(32, (3, 3), activation= 'relu', input_shape=(32,32,1)),\n",
        "    tf.keras.layers.Conv2D(32, (3, 3), activation= 'relu'),\n",
        "    tf.keras.layers.MaxPooling2D(2, 2),\n",
        "    tf.keras.layers.Conv2D(64, (3, 3), activation= 'relu', padding = 'Same'),\n",
        "    tf.keras.layers.Conv2D(64, (3, 3), activation= 'relu', padding = 'Same'),\n",
        "    tf.keras.layers.MaxPooling2D(pool_size= (2, 2), strides = (2, 2)),\n",
        "    tf.keras.layers.Dropout(0.25),\n",
        "    tf.keras.layers.Conv2D(64, (3, 3), activation= 'relu', padding = 'Same'),\n",
        "    tf.keras.layers.Conv2D(64, (3, 3), activation= 'relu', padding = 'Same'),\n",
        "    tf.keras.layers.MaxPooling2D(pool_size= (2, 2), strides = (2, 2)),\n",
        "    tf.keras.layers.Dropout(0.25),\n",
        "    tf.keras.layers.Flatten(),\n",
        "    tf.keras.layers.Dense(256, activation = 'relu'),\n",
        "    tf.keras.layers.Dense(256, activation = 'relu'),\n",
        "    tf.keras.layers.Dropout(0.50),\n",
        "    tf.keras.layers.Dense(10, activation = 'softmax'),\n",
        "])\n",
        "model.summary()"
      ],
      "metadata": {
        "colab": {
          "base_uri": "https://localhost:8080/"
        },
        "id": "P_InlHE0a6D0",
        "outputId": "43054ab8-2cc5-47d3-e361-116115a92daa"
      },
      "execution_count": null,
      "outputs": [
        {
          "output_type": "stream",
          "name": "stdout",
          "text": [
            "Model: \"sequential\"\n",
            "_________________________________________________________________\n",
            " Layer (type)                Output Shape              Param #   \n",
            "=================================================================\n",
            " conv2d (Conv2D)             (None, 30, 30, 32)        320       \n",
            "                                                                 \n",
            " conv2d_1 (Conv2D)           (None, 28, 28, 32)        9248      \n",
            "                                                                 \n",
            " max_pooling2d (MaxPooling2  (None, 14, 14, 32)        0         \n",
            " D)                                                              \n",
            "                                                                 \n",
            " conv2d_2 (Conv2D)           (None, 14, 14, 64)        18496     \n",
            "                                                                 \n",
            " conv2d_3 (Conv2D)           (None, 14, 14, 64)        36928     \n",
            "                                                                 \n",
            " max_pooling2d_1 (MaxPoolin  (None, 7, 7, 64)          0         \n",
            " g2D)                                                            \n",
            "                                                                 \n",
            " dropout (Dropout)           (None, 7, 7, 64)          0         \n",
            "                                                                 \n",
            " conv2d_4 (Conv2D)           (None, 7, 7, 64)          36928     \n",
            "                                                                 \n",
            " conv2d_5 (Conv2D)           (None, 7, 7, 64)          36928     \n",
            "                                                                 \n",
            " max_pooling2d_2 (MaxPoolin  (None, 3, 3, 64)          0         \n",
            " g2D)                                                            \n",
            "                                                                 \n",
            " dropout_1 (Dropout)         (None, 3, 3, 64)          0         \n",
            "                                                                 \n",
            " flatten (Flatten)           (None, 576)               0         \n",
            "                                                                 \n",
            " dense (Dense)               (None, 256)               147712    \n",
            "                                                                 \n",
            " dense_1 (Dense)             (None, 256)               65792     \n",
            "                                                                 \n",
            " dropout_2 (Dropout)         (None, 256)               0         \n",
            "                                                                 \n",
            " dense_2 (Dense)             (None, 10)                2570      \n",
            "                                                                 \n",
            "=================================================================\n",
            "Total params: 354922 (1.35 MB)\n",
            "Trainable params: 354922 (1.35 MB)\n",
            "Non-trainable params: 0 (0.00 Byte)\n",
            "_________________________________________________________________\n"
          ]
        }
      ]
    },
    {
      "cell_type": "code",
      "source": [
        "class myCallback(tf.keras.callbacks.Callback):\n",
        "    def on_epoch_end(self, epoch, logs={}):\n",
        "      if (logs.get('accuracy') > 0.9999):\n",
        "        print(\"\\nReached 99.9%\")\n",
        "        self.model.stop_training = True\n",
        "\n",
        "callbacks = myCallback()"
      ],
      "metadata": {
        "id": "VSCLYCzIcjlC"
      },
      "execution_count": null,
      "outputs": []
    },
    {
      "cell_type": "code",
      "source": [
        "Optimizer = tf.keras.optimizers.Adam(\n",
        "    learning_rate = 0.0005,\n",
        "    beta_1 = 0.9,\n",
        "    beta_2 = 0.999,\n",
        "    epsilon = 1e-07,\n",
        "    name = 'Adam'\n",
        ")\n"
      ],
      "metadata": {
        "id": "Mla4SNrBcwt_"
      },
      "execution_count": null,
      "outputs": []
    },
    {
      "cell_type": "code",
      "source": [
        "%%time\n",
        "model.compile(optimizer=Optimizer, loss='categorical_crossentropy', metrics=['accuracy'])\n",
        "model.fit(train_x, train_y, batch_size = 50, epochs = 25, callbacks=[callbacks])"
      ],
      "metadata": {
        "colab": {
          "base_uri": "https://localhost:8080/"
        },
        "id": "8HDg_XG10AlY",
        "outputId": "0f4ade7a-26aa-46c1-fbbc-f2141b2e5ad2"
      },
      "execution_count": null,
      "outputs": [
        {
          "output_type": "stream",
          "name": "stdout",
          "text": [
            "Epoch 1/24\n",
            "100/100 [==============================] - 2s 9ms/step - loss: 0.0089 - accuracy: 0.9984\n",
            "Epoch 2/24\n",
            "100/100 [==============================] - 1s 7ms/step - loss: 0.0064 - accuracy: 0.9972\n",
            "Epoch 3/24\n",
            "100/100 [==============================] - 1s 6ms/step - loss: 0.0028 - accuracy: 0.9990\n",
            "Epoch 4/24\n",
            "100/100 [==============================] - 1s 6ms/step - loss: 0.0054 - accuracy: 0.9986\n",
            "Epoch 5/24\n",
            "100/100 [==============================] - 1s 6ms/step - loss: 0.0130 - accuracy: 0.9976\n",
            "Epoch 6/24\n",
            "100/100 [==============================] - 1s 6ms/step - loss: 0.0059 - accuracy: 0.9980\n",
            "Epoch 7/24\n",
            "100/100 [==============================] - 1s 6ms/step - loss: 0.0025 - accuracy: 0.9992\n",
            "Epoch 8/24\n",
            "100/100 [==============================] - 1s 6ms/step - loss: 0.0038 - accuracy: 0.9988\n",
            "Epoch 9/24\n",
            "100/100 [==============================] - 1s 6ms/step - loss: 0.0131 - accuracy: 0.9978\n",
            "Epoch 10/24\n",
            "100/100 [==============================] - 1s 7ms/step - loss: 0.0038 - accuracy: 0.9988\n",
            "Epoch 11/24\n",
            "100/100 [==============================] - 1s 7ms/step - loss: 0.0024 - accuracy: 0.9994\n",
            "Epoch 12/24\n",
            "100/100 [==============================] - 1s 6ms/step - loss: 0.0080 - accuracy: 0.9980\n",
            "Epoch 13/24\n",
            "100/100 [==============================] - 1s 7ms/step - loss: 0.0025 - accuracy: 0.9992\n",
            "Epoch 14/24\n",
            "100/100 [==============================] - 1s 7ms/step - loss: 0.0069 - accuracy: 0.9984\n",
            "Epoch 15/24\n",
            "100/100 [==============================] - 1s 6ms/step - loss: 0.0014 - accuracy: 0.9996\n",
            "Epoch 16/24\n",
            "100/100 [==============================] - 1s 6ms/step - loss: 0.0115 - accuracy: 0.9952\n",
            "Epoch 17/24\n",
            "100/100 [==============================] - 1s 6ms/step - loss: 0.0046 - accuracy: 0.9986\n",
            "Epoch 18/24\n",
            "100/100 [==============================] - 1s 8ms/step - loss: 0.0065 - accuracy: 0.9980\n",
            "Epoch 19/24\n",
            "100/100 [==============================] - 1s 9ms/step - loss: 0.0049 - accuracy: 0.9990\n",
            "Epoch 20/24\n",
            "100/100 [==============================] - 1s 9ms/step - loss: 0.0062 - accuracy: 0.9986\n",
            "Epoch 21/24\n",
            "100/100 [==============================] - 1s 7ms/step - loss: 0.0150 - accuracy: 0.9958\n",
            "Epoch 22/24\n",
            "100/100 [==============================] - 1s 6ms/step - loss: 0.0020 - accuracy: 0.9996\n",
            "Epoch 23/24\n",
            " 97/100 [============================>.] - ETA: 0s - loss: 2.4510e-04 - accuracy: 1.0000\n",
            "Reached 99.9%\n",
            "100/100 [==============================] - 1s 6ms/step - loss: 2.3860e-04 - accuracy: 1.0000\n",
            "CPU times: user 16.9 s, sys: 971 ms, total: 17.9 s\n",
            "Wall time: 17.2 s\n"
          ]
        },
        {
          "output_type": "execute_result",
          "data": {
            "text/plain": [
              "<keras.src.callbacks.History at 0x7923f05cb070>"
            ]
          },
          "metadata": {},
          "execution_count": 55
        }
      ]
    },
    {
      "cell_type": "code",
      "source": [
        "results = model.predict(test_x)\n",
        "results = np.argmax(results, axis = 1)\n",
        "results = pd.Series(results, name=\"y\")"
      ],
      "metadata": {
        "colab": {
          "base_uri": "https://localhost:8080/"
        },
        "id": "rcVhggpLf8IW",
        "outputId": "e697efe1-a837-48eb-c0f6-138233f16060"
      },
      "execution_count": null,
      "outputs": [
        {
          "output_type": "stream",
          "name": "stdout",
          "text": [
            "157/157 [==============================] - 0s 2ms/step\n"
          ]
        }
      ]
    },
    {
      "cell_type": "code",
      "source": [
        "results"
      ],
      "metadata": {
        "colab": {
          "base_uri": "https://localhost:8080/"
        },
        "id": "Mz-Hw4vs4z6X",
        "outputId": "8b6127c7-9629-4ee8-b08f-ac125b4fa4bc"
      },
      "execution_count": null,
      "outputs": [
        {
          "output_type": "execute_result",
          "data": {
            "text/plain": [
              "0       8\n",
              "1       8\n",
              "2       3\n",
              "3       8\n",
              "4       8\n",
              "       ..\n",
              "4995    8\n",
              "4996    8\n",
              "4997    8\n",
              "4998    3\n",
              "4999    8\n",
              "Name: y, Length: 5000, dtype: int64"
            ]
          },
          "metadata": {},
          "execution_count": 58
        }
      ]
    },
    {
      "cell_type": "code",
      "source": [
        "submission = pd.concat([pd.Series(range(5000, 10000), name = \"id\"), results], axis = 1)\n",
        "submission.to_csv(\"SampleSubmission6.csv\", index=False)"
      ],
      "metadata": {
        "id": "ZIdTWMUFgOj2"
      },
      "execution_count": null,
      "outputs": []
    }
  ]
}